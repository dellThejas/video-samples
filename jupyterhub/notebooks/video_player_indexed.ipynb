{
 "cells": [
  {
   "cell_type": "markdown",
   "metadata": {},
   "source": [
    "# Install dependencies\n",
    "\n",
    "See [install_dependencies.ipynb](install_dependencies.ipynb)."
   ]
  },
  {
   "cell_type": "markdown",
   "metadata": {},
   "source": [
    "# How to use this Notebook\n",
    "1. Click *Kernel* -> *Restart Kernel and Run All Cells*."
   ]
  },
  {
   "cell_type": "markdown",
   "metadata": {},
   "source": [
    "# Import dependencies"
   ]
  },
  {
   "cell_type": "code",
   "execution_count": null,
   "metadata": {},
   "outputs": [],
   "source": [
    "%load_ext autoreload\n",
    "%autoreload 2"
   ]
  },
  {
   "cell_type": "code",
   "execution_count": null,
   "metadata": {},
   "outputs": [],
   "source": [
    "from matplotlib import pyplot as plt\n",
    "import IPython\n",
    "import cv2\n",
    "import itertools\n",
    "import numpy as np\n",
    "import pandas as pd\n",
    "import json\n",
    "import base64\n",
    "import datetime\n",
    "import time\n",
    "from ipywidgets import interact, interactive, fixed, interact_manual\n",
    "from IPython.display import display\n",
    "import ipywidgets as widgets\n",
    "from pathlib import Path\n",
    "import grpc\n",
    "import imp\n",
    "import pravega.grpc_gateway as pravega\n",
    "import pravega.video as video\n",
    "from pravega.video import UnindexedStream, OutputStream, IndexedStream, opencv_image_to_mpl\n",
    "from matplotlib import pyplot as plt"
   ]
  },
  {
   "cell_type": "code",
   "execution_count": null,
   "metadata": {},
   "outputs": [],
   "source": [
    "imp.reload(video);"
   ]
  },
  {
   "cell_type": "markdown",
   "metadata": {},
   "source": [
    "# Define Pravega stream parameters"
   ]
  },
  {
   "cell_type": "code",
   "execution_count": null,
   "metadata": {},
   "outputs": [],
   "source": [
    "gateway = 'hop-claudio-ubuntu18-desktop.solarch.lab.emc.com:54672'\n",
    "scope = 'examples'\n",
    "#stream = 'object-detector-input-video'\n",
    "stream = 'object-detector-output-video'\n",
    "#stream = 'generated-video'"
   ]
  },
  {
   "cell_type": "markdown",
   "metadata": {},
   "source": [
    "# Initialize connection to Pravega GRPC Gateway"
   ]
  },
  {
   "cell_type": "code",
   "execution_count": null,
   "metadata": {},
   "outputs": [],
   "source": [
    "pravega_channel = grpc.insecure_channel(gateway)\n",
    "pravega_client = pravega.grpc.PravegaGatewayStub(pravega_channel)"
   ]
  },
  {
   "cell_type": "markdown",
   "metadata": {},
   "source": [
    "# Build timestamp index\n",
    "This is an index from timestamp to begin stream cut, end stream cut, and event pointer.\n",
    "\n",
    "This indexed video player uses the event pointer to fetch frames."
   ]
  },
  {
   "cell_type": "code",
   "execution_count": null,
   "metadata": {},
   "outputs": [],
   "source": [
    "imp.reload(video);\n",
    "import pravega.video as video\n",
    "from pravega.video import UnindexedStream, OutputStream, IndexedStream, opencv_image_to_mpl"
   ]
  },
  {
   "cell_type": "code",
   "execution_count": null,
   "metadata": {},
   "outputs": [],
   "source": [
    "indexed_stream = IndexedStream(pravega_client, scope, stream)"
   ]
  },
  {
   "cell_type": "code",
   "execution_count": null,
   "metadata": {},
   "outputs": [],
   "source": [
    "%%time\n",
    "indexed_stream.update_index(force_full=True)"
   ]
  },
  {
   "cell_type": "code",
   "execution_count": null,
   "metadata": {},
   "outputs": [],
   "source": [
    "len(indexed_stream.index_df)"
   ]
  },
  {
   "cell_type": "markdown",
   "metadata": {},
   "source": [
    "# Video Player"
   ]
  },
  {
   "cell_type": "code",
   "execution_count": null,
   "metadata": {},
   "outputs": [],
   "source": [
    "class PravegaVideoPlayer():\n",
    "    def __init__(self, indexed_stream, figsize=(12,10)):\n",
    "        self.indexed_stream = indexed_stream\n",
    "        self.figsize = figsize\n",
    "        \n",
    "    def show(self, frame_number):\n",
    "        video_frame = self.indexed_stream.get_single_video_frame_by_index(frame_number)\n",
    "        timestamp = video_frame['timestamp']\n",
    "        self.timestamp_label.value = '%s' % timestamp\n",
    "        self.streamcut_widget.value = video_frame['from_stream_cut']\n",
    "        plt.figure(figsize=self.figsize)\n",
    "        plt.imshow(opencv_image_to_mpl(video_frame['image_array']));\n",
    "\n",
    "    def move_to_prev_frame(self):\n",
    "        self.frame_number_widget.value = self.frame_number_widget.value - 1\n",
    "        \n",
    "    def move_to_next_frame(self):\n",
    "        self.frame_number_widget.value = self.frame_number_widget.value + 1\n",
    "    \n",
    "    def interact(self):\n",
    "        w = interactive(\n",
    "            self.show, \n",
    "            frame_number=widgets.IntSlider(\n",
    "                description='Frame',\n",
    "                min=0, \n",
    "                max=len(self.indexed_stream.index_df)-1, \n",
    "                step=1, \n",
    "                value=0,\n",
    "                style={'description_width': 'initial'}))\n",
    "        self.widget = w\n",
    "        self.frame_number_widget = w.children[0]\n",
    "        self.output_widget = widgets.Output()\n",
    "        self.timestamp_label = widgets.Text(description='Timestamp', disabled=True)\n",
    "        self.streamcut_widget = widgets.Text(description='Stream Cut', disabled=True)\n",
    "        \n",
    "        self.play_widget = widgets.Play(\n",
    "            value=0,\n",
    "            min=0,\n",
    "            max=len(self.indexed_stream.index_df)-1,\n",
    "            step=1,\n",
    "            interval=1000,\n",
    "            description=\"Press play\",\n",
    "            disabled=False\n",
    "        )\n",
    "        widgets.jslink((self.play_widget, 'value'), (self.frame_number_widget, 'value'))\n",
    "        \n",
    "        prev_button = widgets.Button(description=\"<\")\n",
    "        prev_button.on_click(lambda b: self.move_to_prev_frame())\n",
    "        next_button = widgets.Button(description=\">\")\n",
    "        next_button.on_click(lambda b: self.move_to_next_frame())\n",
    "        buttons = (prev_button, next_button)\n",
    "        labels = (self.timestamp_label, self.streamcut_widget)\n",
    "        image_widget = w.children[-1]\n",
    "        \n",
    "        w.children = (self.frame_number_widget, self.play_widget) + labels + buttons + (image_widget, self.output_widget)\n",
    "        \n",
    "        layout = w.layout\n",
    "        w.layout.display = 'flex'\n",
    "        w.layout.flex_flow = 'row wrap'\n",
    "        w.layout.justify_content = 'flex-start'\n",
    "        w.layout.align_items = 'flex-start'\n",
    "        self.frame_number_widget.layout.width = '100%'        \n",
    "        for child in labels:\n",
    "            child.layout.width = '100%'\n",
    "        for child in buttons:\n",
    "            child.layout.width = '10%'\n",
    "        image_widget.layout.width = '100%'\n",
    "        self.output_widget.layout.width = '100%'\n",
    "        \n",
    "        display(self.widget)"
   ]
  },
  {
   "cell_type": "code",
   "execution_count": null,
   "metadata": {},
   "outputs": [],
   "source": [
    "player = PravegaVideoPlayer(indexed_stream)"
   ]
  },
  {
   "cell_type": "code",
   "execution_count": null,
   "metadata": {},
   "outputs": [],
   "source": [
    "player.interact()"
   ]
  }
 ],
 "metadata": {
  "kernelspec": {
   "display_name": "Python 3",
   "language": "python",
   "name": "python3"
  },
  "language_info": {
   "codemirror_mode": {
    "name": "ipython",
    "version": 3
   },
   "file_extension": ".py",
   "mimetype": "text/x-python",
   "name": "python",
   "nbconvert_exporter": "python",
   "pygments_lexer": "ipython3",
   "version": "3.7.6"
  }
 },
 "nbformat": 4,
 "nbformat_minor": 4
}
